{
 "cells": [
  {
   "cell_type": "markdown",
   "id": "b908f06d-122f-47f5-8de1-8562907a056e",
   "metadata": {},
   "source": [
    "# Story of the Dataset"
   ]
  },
  {
   "cell_type": "markdown",
   "id": "1ee644a1-0c72-450a-b15c-60f0a0f8ca8c",
   "metadata": {},
   "source": [
    "## How Was the Dataset Obtained?  "
   ]
  },
  {
   "cell_type": "markdown",
   "id": "740df5e4-8ee1-4e0f-926b-2cb6f5a25338",
   "metadata": {},
   "source": [
    "- __*The Employee Satisfaction Survey*__ __dataset was obtained from an annual employee satisfaction survey conducted by the company's HR department.__\n",
    "- __Employees were asked to voluntarily participate__\n",
    "- __Employees provided information about their job satisfaction, performance evaluations, project involvement, and work-related factors:__\n",
    "- __*Note that ther aren't any demographic attributes in this dataset*__"
   ]
  },
  {
   "cell_type": "code",
   "execution_count": 1,
   "id": "b9ab5ba9-03be-462b-b164-a5dd82d61c9f",
   "metadata": {},
   "outputs": [
    {
     "data": {
      "text/html": [
       "<div>\n",
       "<style scoped>\n",
       "    .dataframe tbody tr th:only-of-type {\n",
       "        vertical-align: middle;\n",
       "    }\n",
       "\n",
       "    .dataframe tbody tr th {\n",
       "        vertical-align: top;\n",
       "    }\n",
       "\n",
       "    .dataframe thead th {\n",
       "        text-align: right;\n",
       "    }\n",
       "</style>\n",
       "<table border=\"1\" class=\"dataframe\">\n",
       "  <thead>\n",
       "    <tr style=\"text-align: right;\">\n",
       "      <th></th>\n",
       "      <th>id</th>\n",
       "      <th>satisfaction_level</th>\n",
       "      <th>last_evaluation</th>\n",
       "      <th>number_project</th>\n",
       "      <th>average_monthly_hours</th>\n",
       "      <th>time_spend_company</th>\n",
       "      <th>work_accident</th>\n",
       "      <th>promotion_last_5years</th>\n",
       "      <th>dept</th>\n",
       "      <th>salary</th>\n",
       "    </tr>\n",
       "  </thead>\n",
       "  <tbody>\n",
       "    <tr>\n",
       "      <th>0</th>\n",
       "      <td>1.0</td>\n",
       "      <td>0.38</td>\n",
       "      <td>0.53</td>\n",
       "      <td>2.0</td>\n",
       "      <td>157.0</td>\n",
       "      <td>3.0</td>\n",
       "      <td>0.0</td>\n",
       "      <td>0.0</td>\n",
       "      <td>sales</td>\n",
       "      <td>low</td>\n",
       "    </tr>\n",
       "    <tr>\n",
       "      <th>1</th>\n",
       "      <td>2.0</td>\n",
       "      <td>0.80</td>\n",
       "      <td>0.86</td>\n",
       "      <td>5.0</td>\n",
       "      <td>262.0</td>\n",
       "      <td>6.0</td>\n",
       "      <td>0.0</td>\n",
       "      <td>0.0</td>\n",
       "      <td>sales</td>\n",
       "      <td>medium</td>\n",
       "    </tr>\n",
       "    <tr>\n",
       "      <th>2</th>\n",
       "      <td>3.0</td>\n",
       "      <td>0.11</td>\n",
       "      <td>0.88</td>\n",
       "      <td>7.0</td>\n",
       "      <td>272.0</td>\n",
       "      <td>4.0</td>\n",
       "      <td>0.0</td>\n",
       "      <td>0.0</td>\n",
       "      <td>sales</td>\n",
       "      <td>medium</td>\n",
       "    </tr>\n",
       "    <tr>\n",
       "      <th>3</th>\n",
       "      <td>4.0</td>\n",
       "      <td>0.72</td>\n",
       "      <td>0.87</td>\n",
       "      <td>5.0</td>\n",
       "      <td>223.0</td>\n",
       "      <td>5.0</td>\n",
       "      <td>0.0</td>\n",
       "      <td>0.0</td>\n",
       "      <td>sales</td>\n",
       "      <td>low</td>\n",
       "    </tr>\n",
       "    <tr>\n",
       "      <th>4</th>\n",
       "      <td>5.0</td>\n",
       "      <td>0.37</td>\n",
       "      <td>0.52</td>\n",
       "      <td>2.0</td>\n",
       "      <td>159.0</td>\n",
       "      <td>3.0</td>\n",
       "      <td>0.0</td>\n",
       "      <td>0.0</td>\n",
       "      <td>sales</td>\n",
       "      <td>low</td>\n",
       "    </tr>\n",
       "  </tbody>\n",
       "</table>\n",
       "</div>"
      ],
      "text/plain": [
       "    id  satisfaction_level  last_evaluation  number_project  \\\n",
       "0  1.0                0.38             0.53             2.0   \n",
       "1  2.0                0.80             0.86             5.0   \n",
       "2  3.0                0.11             0.88             7.0   \n",
       "3  4.0                0.72             0.87             5.0   \n",
       "4  5.0                0.37             0.52             2.0   \n",
       "\n",
       "   average_monthly_hours  time_spend_company  work_accident  \\\n",
       "0                  157.0                 3.0            0.0   \n",
       "1                  262.0                 6.0            0.0   \n",
       "2                  272.0                 4.0            0.0   \n",
       "3                  223.0                 5.0            0.0   \n",
       "4                  159.0                 3.0            0.0   \n",
       "\n",
       "   promotion_last_5years   dept  salary  \n",
       "0                    0.0  sales     low  \n",
       "1                    0.0  sales  medium  \n",
       "2                    0.0  sales  medium  \n",
       "3                    0.0  sales     low  \n",
       "4                    0.0  sales     low  "
      ]
     },
     "execution_count": 1,
     "metadata": {},
     "output_type": "execute_result"
    }
   ],
   "source": [
    "import numpy as np\n",
    "import pandas as pd\n",
    "import seaborn as sns\n",
    "employee_attrition = pd.read_csv(\"./Employee Attrition.csv\")\n",
    "df = employee_attrition.copy()\n",
    "df.columns = [\"id\", \"satisfaction_level\", \"last_evaluation\", \"number_project\", \"average_monthly_hours\", \"time_spend_company\", \"work_accident\", \"promotion_last_5years\", \"dept\", \"salary\"]\n",
    "df.head()"
   ]
  },
  {
   "cell_type": "code",
   "execution_count": 2,
   "id": "04e09011-82c7-4648-9476-6780d2a57c52",
   "metadata": {},
   "outputs": [],
   "source": [
    "sns.set(rc={'figure.figsize':(12,5)})\n",
    "import matplotlib.pyplot as plt"
   ]
  },
  {
   "cell_type": "code",
   "execution_count": 3,
   "id": "45e1e8fd-85e9-49a1-940c-b02cf15b4aa2",
   "metadata": {},
   "outputs": [],
   "source": [
    "df.dept = pd.Categorical(df.dept)\n",
    "df.salary = pd.Categorical(df.salary)"
   ]
  },
  {
   "cell_type": "code",
   "execution_count": 4,
   "id": "1abad88c-5bb4-4c67-8953-5c04c9f5cb6a",
   "metadata": {},
   "outputs": [
    {
     "data": {
      "text/plain": [
       "id                       788\n",
       "satisfaction_level       788\n",
       "last_evaluation          788\n",
       "number_project           788\n",
       "average_monthly_hours    788\n",
       "time_spend_company       788\n",
       "work_accident            788\n",
       "promotion_last_5years    788\n",
       "dept                     788\n",
       "salary                   788\n",
       "dtype: int64"
      ]
     },
     "execution_count": 4,
     "metadata": {},
     "output_type": "execute_result"
    }
   ],
   "source": [
    "df.isnull().sum()"
   ]
  },
  {
   "cell_type": "code",
   "execution_count": 5,
   "id": "a958852b-5da5-46d6-afe6-df00a94bc8c0",
   "metadata": {},
   "outputs": [
    {
     "data": {
      "text/plain": [
       "id                       0\n",
       "satisfaction_level       0\n",
       "last_evaluation          0\n",
       "number_project           0\n",
       "average_monthly_hours    0\n",
       "time_spend_company       0\n",
       "work_accident            0\n",
       "promotion_last_5years    0\n",
       "dept                     0\n",
       "salary                   0\n",
       "dtype: int64"
      ]
     },
     "execution_count": 5,
     "metadata": {},
     "output_type": "execute_result"
    }
   ],
   "source": [
    "df.dropna(inplace=True)\n",
    "df.isnull().sum()"
   ]
  },
  {
   "cell_type": "code",
   "execution_count": 6,
   "id": "1d8c2b96-6c2b-4534-9efa-3ac7e5133560",
   "metadata": {},
   "outputs": [
    {
     "data": {
      "text/html": [
       "<div>\n",
       "<style scoped>\n",
       "    .dataframe tbody tr th:only-of-type {\n",
       "        vertical-align: middle;\n",
       "    }\n",
       "\n",
       "    .dataframe tbody tr th {\n",
       "        vertical-align: top;\n",
       "    }\n",
       "\n",
       "    .dataframe thead th {\n",
       "        text-align: right;\n",
       "    }\n",
       "</style>\n",
       "<table border=\"1\" class=\"dataframe\">\n",
       "  <thead>\n",
       "    <tr style=\"text-align: right;\">\n",
       "      <th></th>\n",
       "      <th>id</th>\n",
       "      <th>satisfaction_level</th>\n",
       "      <th>last_evaluation</th>\n",
       "      <th>number_project</th>\n",
       "      <th>average_monthly_hours</th>\n",
       "      <th>time_spend_company</th>\n",
       "      <th>work_accident</th>\n",
       "      <th>promotion_last_5years</th>\n",
       "      <th>dept</th>\n",
       "      <th>salary</th>\n",
       "    </tr>\n",
       "  </thead>\n",
       "  <tbody>\n",
       "    <tr>\n",
       "      <th>0</th>\n",
       "      <td>1.0</td>\n",
       "      <td>0.38</td>\n",
       "      <td>0.53</td>\n",
       "      <td>2.0</td>\n",
       "      <td>157.0</td>\n",
       "      <td>3.0</td>\n",
       "      <td>0.0</td>\n",
       "      <td>0.0</td>\n",
       "      <td>sales</td>\n",
       "      <td>low</td>\n",
       "    </tr>\n",
       "    <tr>\n",
       "      <th>1</th>\n",
       "      <td>2.0</td>\n",
       "      <td>0.80</td>\n",
       "      <td>0.86</td>\n",
       "      <td>5.0</td>\n",
       "      <td>262.0</td>\n",
       "      <td>6.0</td>\n",
       "      <td>0.0</td>\n",
       "      <td>0.0</td>\n",
       "      <td>sales</td>\n",
       "      <td>medium</td>\n",
       "    </tr>\n",
       "    <tr>\n",
       "      <th>2</th>\n",
       "      <td>3.0</td>\n",
       "      <td>0.11</td>\n",
       "      <td>0.88</td>\n",
       "      <td>7.0</td>\n",
       "      <td>272.0</td>\n",
       "      <td>4.0</td>\n",
       "      <td>0.0</td>\n",
       "      <td>0.0</td>\n",
       "      <td>sales</td>\n",
       "      <td>medium</td>\n",
       "    </tr>\n",
       "    <tr>\n",
       "      <th>3</th>\n",
       "      <td>4.0</td>\n",
       "      <td>0.72</td>\n",
       "      <td>0.87</td>\n",
       "      <td>5.0</td>\n",
       "      <td>223.0</td>\n",
       "      <td>5.0</td>\n",
       "      <td>0.0</td>\n",
       "      <td>0.0</td>\n",
       "      <td>sales</td>\n",
       "      <td>low</td>\n",
       "    </tr>\n",
       "    <tr>\n",
       "      <th>4</th>\n",
       "      <td>5.0</td>\n",
       "      <td>0.37</td>\n",
       "      <td>0.52</td>\n",
       "      <td>2.0</td>\n",
       "      <td>159.0</td>\n",
       "      <td>3.0</td>\n",
       "      <td>0.0</td>\n",
       "      <td>0.0</td>\n",
       "      <td>sales</td>\n",
       "      <td>low</td>\n",
       "    </tr>\n",
       "  </tbody>\n",
       "</table>\n",
       "</div>"
      ],
      "text/plain": [
       "    id  satisfaction_level  last_evaluation  number_project  \\\n",
       "0  1.0                0.38             0.53             2.0   \n",
       "1  2.0                0.80             0.86             5.0   \n",
       "2  3.0                0.11             0.88             7.0   \n",
       "3  4.0                0.72             0.87             5.0   \n",
       "4  5.0                0.37             0.52             2.0   \n",
       "\n",
       "   average_monthly_hours  time_spend_company  work_accident  \\\n",
       "0                  157.0                 3.0            0.0   \n",
       "1                  262.0                 6.0            0.0   \n",
       "2                  272.0                 4.0            0.0   \n",
       "3                  223.0                 5.0            0.0   \n",
       "4                  159.0                 3.0            0.0   \n",
       "\n",
       "   promotion_last_5years   dept  salary  \n",
       "0                    0.0  sales     low  \n",
       "1                    0.0  sales  medium  \n",
       "2                    0.0  sales  medium  \n",
       "3                    0.0  sales     low  \n",
       "4                    0.0  sales     low  "
      ]
     },
     "execution_count": 6,
     "metadata": {},
     "output_type": "execute_result"
    }
   ],
   "source": [
    "df.reset_index(inplace=True)\n",
    "df.drop(\"index\", axis=1, inplace=True)\n",
    "df.head()"
   ]
  },
  {
   "cell_type": "code",
   "execution_count": 7,
   "id": "ae73261e-529b-4c49-96a2-facf7e1c03ba",
   "metadata": {},
   "outputs": [
    {
     "data": {
      "text/html": [
       "<div>\n",
       "<style scoped>\n",
       "    .dataframe tbody tr th:only-of-type {\n",
       "        vertical-align: middle;\n",
       "    }\n",
       "\n",
       "    .dataframe tbody tr th {\n",
       "        vertical-align: top;\n",
       "    }\n",
       "\n",
       "    .dataframe thead th {\n",
       "        text-align: right;\n",
       "    }\n",
       "</style>\n",
       "<table border=\"1\" class=\"dataframe\">\n",
       "  <thead>\n",
       "    <tr style=\"text-align: right;\">\n",
       "      <th></th>\n",
       "      <th>id</th>\n",
       "      <th>satisfaction_level</th>\n",
       "      <th>last_evaluation</th>\n",
       "      <th>number_project</th>\n",
       "      <th>average_monthly_hours</th>\n",
       "      <th>time_spend_company</th>\n",
       "      <th>work_accident</th>\n",
       "      <th>promotion_last_5years</th>\n",
       "      <th>dept</th>\n",
       "      <th>salary</th>\n",
       "    </tr>\n",
       "  </thead>\n",
       "  <tbody>\n",
       "    <tr>\n",
       "      <th>14994</th>\n",
       "      <td>14995.0</td>\n",
       "      <td>0.40</td>\n",
       "      <td>0.57</td>\n",
       "      <td>2.0</td>\n",
       "      <td>151.0</td>\n",
       "      <td>3.0</td>\n",
       "      <td>0.0</td>\n",
       "      <td>0.0</td>\n",
       "      <td>support</td>\n",
       "      <td>low</td>\n",
       "    </tr>\n",
       "    <tr>\n",
       "      <th>14995</th>\n",
       "      <td>14996.0</td>\n",
       "      <td>0.37</td>\n",
       "      <td>0.48</td>\n",
       "      <td>2.0</td>\n",
       "      <td>160.0</td>\n",
       "      <td>3.0</td>\n",
       "      <td>0.0</td>\n",
       "      <td>0.0</td>\n",
       "      <td>support</td>\n",
       "      <td>low</td>\n",
       "    </tr>\n",
       "    <tr>\n",
       "      <th>14996</th>\n",
       "      <td>14997.0</td>\n",
       "      <td>0.37</td>\n",
       "      <td>0.53</td>\n",
       "      <td>2.0</td>\n",
       "      <td>143.0</td>\n",
       "      <td>3.0</td>\n",
       "      <td>0.0</td>\n",
       "      <td>0.0</td>\n",
       "      <td>support</td>\n",
       "      <td>low</td>\n",
       "    </tr>\n",
       "    <tr>\n",
       "      <th>14997</th>\n",
       "      <td>14998.0</td>\n",
       "      <td>0.11</td>\n",
       "      <td>0.96</td>\n",
       "      <td>6.0</td>\n",
       "      <td>280.0</td>\n",
       "      <td>4.0</td>\n",
       "      <td>0.0</td>\n",
       "      <td>0.0</td>\n",
       "      <td>support</td>\n",
       "      <td>low</td>\n",
       "    </tr>\n",
       "    <tr>\n",
       "      <th>14998</th>\n",
       "      <td>14999.0</td>\n",
       "      <td>0.37</td>\n",
       "      <td>0.52</td>\n",
       "      <td>2.0</td>\n",
       "      <td>158.0</td>\n",
       "      <td>3.0</td>\n",
       "      <td>0.0</td>\n",
       "      <td>0.0</td>\n",
       "      <td>support</td>\n",
       "      <td>low</td>\n",
       "    </tr>\n",
       "  </tbody>\n",
       "</table>\n",
       "</div>"
      ],
      "text/plain": [
       "            id  satisfaction_level  last_evaluation  number_project  \\\n",
       "14994  14995.0                0.40             0.57             2.0   \n",
       "14995  14996.0                0.37             0.48             2.0   \n",
       "14996  14997.0                0.37             0.53             2.0   \n",
       "14997  14998.0                0.11             0.96             6.0   \n",
       "14998  14999.0                0.37             0.52             2.0   \n",
       "\n",
       "       average_monthly_hours  time_spend_company  work_accident  \\\n",
       "14994                  151.0                 3.0            0.0   \n",
       "14995                  160.0                 3.0            0.0   \n",
       "14996                  143.0                 3.0            0.0   \n",
       "14997                  280.0                 4.0            0.0   \n",
       "14998                  158.0                 3.0            0.0   \n",
       "\n",
       "       promotion_last_5years     dept salary  \n",
       "14994                    0.0  support    low  \n",
       "14995                    0.0  support    low  \n",
       "14996                    0.0  support    low  \n",
       "14997                    0.0  support    low  \n",
       "14998                    0.0  support    low  "
      ]
     },
     "execution_count": 7,
     "metadata": {},
     "output_type": "execute_result"
    }
   ],
   "source": [
    "df.tail()"
   ]
  },
  {
   "cell_type": "code",
   "execution_count": 8,
   "id": "dcc67bc6-34c2-4439-97c2-d10a8e84b33d",
   "metadata": {},
   "outputs": [
    {
     "data": {
      "text/plain": [
       "id                        float64\n",
       "satisfaction_level        float64\n",
       "last_evaluation           float64\n",
       "number_project            float64\n",
       "average_monthly_hours     float64\n",
       "time_spend_company        float64\n",
       "work_accident             float64\n",
       "promotion_last_5years     float64\n",
       "dept                     category\n",
       "salary                   category\n",
       "dtype: object"
      ]
     },
     "execution_count": 8,
     "metadata": {},
     "output_type": "execute_result"
    }
   ],
   "source": [
    "df.dtypes"
   ]
  },
  {
   "cell_type": "code",
   "execution_count": 9,
   "id": "87257d33-ab13-46ae-8353-c920bb301528",
   "metadata": {},
   "outputs": [
    {
     "data": {
      "text/plain": [
       "sales          4140\n",
       "technical      2720\n",
       "support        2229\n",
       "IT             1227\n",
       "product_mng     902\n",
       "marketing       858\n",
       "RandD           787\n",
       "accounting      767\n",
       "hr              739\n",
       "management      630\n",
       "Name: dept, dtype: int64"
      ]
     },
     "execution_count": 9,
     "metadata": {},
     "output_type": "execute_result"
    }
   ],
   "source": [
    "df.dept.value_counts()"
   ]
  },
  {
   "cell_type": "code",
   "execution_count": 10,
   "id": "898cf6aa-1cd7-4a0f-8063-d012763c4850",
   "metadata": {},
   "outputs": [
    {
     "data": {
      "image/png": "[encoded data removed]",
      "text/plain": [
       "<Figure size 864x360 with 1 Axes>"
      ]
     },
     "metadata": {},
     "output_type": "display_data"
    }
   ],
   "source": [
    "sns.set(style=\"darkgrid\")\n",
    "ax = sns.countplot(x=\"dept\", data=df);\n",
    "plt.savefig(\"dept_count.svg\", format='svg')"
   ]
  },
  {
   "cell_type": "code",
   "execution_count": 11,
   "id": "5a09c513-30b0-4008-ba25-bd46393dcaf9",
   "metadata": {},
   "outputs": [
    {
     "data": {
      "image/png": "[encoded data removed]",
      "text/plain": [
       "<Figure size 864x360 with 1 Axes>"
      ]
     },
     "metadata": {},
     "output_type": "display_data"
    }
   ],
   "source": [
    "sns.set(style=\"darkgrid\")\n",
    "ax = sns.countplot(x=\"salary\", data=df);\n",
    "plt.savefig(\"salary_count.svg\", format='svg')"
   ]
  },
  {
   "cell_type": "code",
   "execution_count": 12,
   "id": "58e8b8a4-3bca-46c0-94b0-1c2c0207b894",
   "metadata": {},
   "outputs": [
    {
     "data": {
      "image/png": "[encoded data removed]",
      "text/plain": [
       "<Figure size 864x360 with 1 Axes>"
      ]
     },
     "metadata": {},
     "output_type": "display_data"
    }
   ],
   "source": [
    "sns.set(style=\"darkgrid\")\n",
    "ax = sns.countplot(x=\"work_accident\", data=df);\n",
    "plt.savefig(\"work_accident_count.svg\", format='svg')"
   ]
  },
  {
   "cell_type": "code",
   "execution_count": 13,
   "id": "185ecb25-6c2e-4606-8c73-2dfecfcd7eea",
   "metadata": {},
   "outputs": [
    {
     "data": {
      "image/png": "[encoded data removed]",
      "text/plain": [
       "<Figure size 864x360 with 1 Axes>"
      ]
     },
     "metadata": {},
     "output_type": "display_data"
    }
   ],
   "source": [
    "sns.set(style=\"darkgrid\")\n",
    "ax = sns.countplot(x=\"promotion_last_5years\", data=df);\n",
    "plt.savefig(\"promotion_last_5years.svg\", format='svg')"
   ]
  },
  {
   "cell_type": "code",
   "execution_count": 14,
   "id": "722e6d22-d59f-4f61-9238-580c161e7c3c",
   "metadata": {},
   "outputs": [
    {
     "data": {
      "text/plain": [
       "(14999, 10)"
      ]
     },
     "execution_count": 14,
     "metadata": {},
     "output_type": "execute_result"
    }
   ],
   "source": [
    "df.shape"
   ]
  },
  {
   "cell_type": "code",
   "execution_count": 15,
   "id": "7d94be33-b7cc-45e5-849b-b797b7d81ba3",
   "metadata": {},
   "outputs": [
    {
     "data": {
      "text/plain": [
       "Index(['id', 'satisfaction_level', 'last_evaluation', 'number_project',\n",
       "       'average_monthly_hours', 'time_spend_company', 'work_accident',\n",
       "       'promotion_last_5years', 'dept', 'salary'],\n",
       "      dtype='object')"
      ]
     },
     "execution_count": 15,
     "metadata": {},
     "output_type": "execute_result"
    }
   ],
   "source": [
    "df.columns"
   ]
  },
  {
   "cell_type": "code",
   "execution_count": 16,
   "id": "8aa5cca9-9b96-433f-9d87-9b948870e4f7",
   "metadata": {},
   "outputs": [
    {
     "name": "stdout",
     "output_type": "stream",
     "text": [
      "<class 'pandas.core.frame.DataFrame'>\n",
      "RangeIndex: 14999 entries, 0 to 14998\n",
      "Data columns (total 10 columns):\n",
      " #   Column                 Non-Null Count  Dtype   \n",
      "---  ------                 --------------  -----   \n",
      " 0   id                     14999 non-null  float64 \n",
      " 1   satisfaction_level     14999 non-null  float64 \n",
      " 2   last_evaluation        14999 non-null  float64 \n",
      " 3   number_project         14999 non-null  float64 \n",
      " 4   average_monthly_hours  14999 non-null  float64 \n",
      " 5   time_spend_company     14999 non-null  float64 \n",
      " 6   work_accident          14999 non-null  float64 \n",
      " 7   promotion_last_5years  14999 non-null  float64 \n",
      " 8   dept                   14999 non-null  category\n",
      " 9   salary                 14999 non-null  category\n",
      "dtypes: category(2), float64(8)\n",
      "memory usage: 967.4 KB\n"
     ]
    }
   ],
   "source": [
    "df.info()"
   ]
  },
  {
   "cell_type": "code",
   "execution_count": 17,
   "id": "74e533fc-faca-4f12-9040-898904f1dbaa",
   "metadata": {},
   "outputs": [
    {
     "name": "stdout",
     "output_type": "stream",
     "text": [
      "\\begin{tabular}{lrrrrrrrr}\n",
      "\\toprule\n",
      "{} &    count &         mean &          std &    min &      25\\% &      50\\% &       75\\% &      max \\\\\n",
      "\\midrule\n",
      "id                    &  14999.0 &  7500.000000 &  4329.982679 &   1.00 &  3750.50 &  7500.00 &  11249.50 &  14999.0 \\\\\n",
      "satisfaction\\_level    &  14999.0 &     0.612834 &     0.248631 &   0.09 &     0.44 &     0.64 &      0.82 &      1.0 \\\\\n",
      "last\\_evaluation       &  14999.0 &     0.716102 &     0.171169 &   0.36 &     0.56 &     0.72 &      0.87 &      1.0 \\\\\n",
      "number\\_project        &  14999.0 &     3.803054 &     1.232592 &   2.00 &     3.00 &     4.00 &      5.00 &      7.0 \\\\\n",
      "average\\_monthly\\_hours &  14999.0 &   201.050337 &    49.943099 &  96.00 &   156.00 &   200.00 &    245.00 &    310.0 \\\\\n",
      "time\\_spend\\_company    &  14999.0 &     3.498233 &     1.460136 &   2.00 &     3.00 &     3.00 &      4.00 &     10.0 \\\\\n",
      "work\\_accident         &  14999.0 &     0.144610 &     0.351719 &   0.00 &     0.00 &     0.00 &      0.00 &      1.0 \\\\\n",
      "promotion\\_last\\_5years &  14999.0 &     0.021268 &     0.144281 &   0.00 &     0.00 &     0.00 &      0.00 &      1.0 \\\\\n",
      "\\bottomrule\n",
      "\\end{tabular}\n",
      "\n"
     ]
    },
    {
     "name": "stderr",
     "output_type": "stream",
     "text": [
      "C:\\Users\\Hasan Kayra Mike\\AppData\\Local\\Temp\\ipykernel_10720\\3629690363.py:1: FutureWarning: In future versions `DataFrame.to_latex` is expected to utilise the base implementation of `Styler.to_latex` for formatting and rendering. The arguments signature may therefore change. It is recommended instead to use `DataFrame.style.to_latex` which also contains additional functionality.\n",
      "  print(df.describe().T.to_latex())\n"
     ]
    }
   ],
   "source": [
    "print(df.describe().T.to_latex())"
   ]
  },
  {
   "cell_type": "code",
   "execution_count": 18,
   "id": "0d51d385-8fc0-41d5-881a-26fb52ddbe6a",
   "metadata": {},
   "outputs": [
    {
     "data": {
      "image/png": "[encoded data removed]",
      "text/plain": [
       "<Figure size 864x360 with 1 Axes>"
      ]
     },
     "metadata": {},
     "output_type": "display_data"
    }
   ],
   "source": [
    "sns.histplot(df.work_accident);"
   ]
  },
  {
   "cell_type": "code",
   "execution_count": 19,
   "id": "7fd99a00-abac-43b0-b43d-83d32e90d2db",
   "metadata": {},
   "outputs": [
    {
     "data": {
      "image/png": "[encoded data removed]",
      "text/plain": [
       "<Figure size 864x360 with 1 Axes>"
      ]
     },
     "metadata": {},
     "output_type": "display_data"
    }
   ],
   "source": [
    "sns.barplot(x=\"work_accident\", y=\"satisfaction_level\", data=df);"
   ]
  },
  {
   "cell_type": "code",
   "execution_count": 20,
   "id": "86792105-d4f6-496a-8042-a026b7bebfa0",
   "metadata": {},
   "outputs": [
    {
     "data": {
      "image/png": "[encoded data removed]",
      "text/plain": [
       "<Figure size 864x360 with 1 Axes>"
      ]
     },
     "metadata": {},
     "output_type": "display_data"
    }
   ],
   "source": [
    "sns.barplot(x=\"average_monthly_hours\", y=\"satisfaction_level\", data=df);"
   ]
  },
  {
   "cell_type": "code",
   "execution_count": 21,
   "id": "f1af565a-c5d7-442c-a7d4-754ab9bcc83f",
   "metadata": {},
   "outputs": [
    {
     "data": {
      "text/plain": [
       "count    14999.000000\n",
       "mean       201.050337\n",
       "std         49.943099\n",
       "min         96.000000\n",
       "25%        156.000000\n",
       "50%        200.000000\n",
       "75%        245.000000\n",
       "max        310.000000\n",
       "Name: average_monthly_hours, dtype: float64"
      ]
     },
     "execution_count": 21,
     "metadata": {},
     "output_type": "execute_result"
    }
   ],
   "source": [
    "df.average_monthly_hours.describe()"
   ]
  },
  {
   "cell_type": "code",
   "execution_count": 22,
   "id": "1a6d8160-bbca-4a4a-a9f0-d99aa0a19beb",
   "metadata": {},
   "outputs": [
    {
     "data": {
      "image/png": "[encoded data removed]",
      "text/plain": [
       "<Figure size 864x360 with 1 Axes>"
      ]
     },
     "metadata": {},
     "output_type": "display_data"
    }
   ],
   "source": [
    "sns.set(style=\"darkgrid\")\n",
    "ax = sns.boxplot(x=\"satisfaction_level\", data=df);\n",
    "plt.savefig(\"satisfaction_level.svg\", format='svg')"
   ]
  },
  {
   "cell_type": "code",
   "execution_count": 23,
   "id": "25d51f52-6772-4a8b-9469-ed8bc8825fc2",
   "metadata": {},
   "outputs": [
    {
     "data": {
      "image/png": "[encoded data removed]",
      "text/plain": [
       "<Figure size 864x360 with 1 Axes>"
      ]
     },
     "metadata": {},
     "output_type": "display_data"
    }
   ],
   "source": [
    "sns.set(style=\"darkgrid\")\n",
    "ax = sns.boxplot(x=\"last_evaluation\", data=df);\n",
    "plt.savefig(\"last_evaluation.svg\", format='svg')"
   ]
  },
  {
   "cell_type": "code",
   "execution_count": 24,
   "id": "bf69e06b-629e-4209-a00e-289522f45331",
   "metadata": {},
   "outputs": [
    {
     "data": {
      "image/png": "[encoded data removed]",
      "text/plain": [
       "<Figure size 864x360 with 1 Axes>"
      ]
     },
     "metadata": {},
     "output_type": "display_data"
    }
   ],
   "source": [
    "sns.set(style=\"darkgrid\")\n",
    "ax = sns.boxplot(x=\"number_project\", data=df);\n",
    "plt.savefig(\"number_project.svg\", format='svg')"
   ]
  },
  {
   "cell_type": "code",
   "execution_count": 25,
   "id": "42b4ac46-3292-4aae-aade-4439a805c242",
   "metadata": {},
   "outputs": [
    {
     "data": {
      "image/png": "[encoded data removed]",
      "text/plain": [
       "<Figure size 864x360 with 1 Axes>"
      ]
     },
     "metadata": {},
     "output_type": "display_data"
    }
   ],
   "source": [
    "sns.set(style=\"darkgrid\")\n",
    "ax = sns.boxplot(x=\"average_monthly_hours\", data=df);\n",
    "plt.savefig(\"average_monthly_hours.svg\", format='svg')"
   ]
  },
  {
   "cell_type": "code",
   "execution_count": 26,
   "id": "41a4646a-50ab-4991-8732-f955bbf4cbdb",
   "metadata": {},
   "outputs": [
    {
     "data": {
      "image/png": "[encoded data removed]",
      "text/plain": [
       "<Figure size 864x360 with 1 Axes>"
      ]
     },
     "metadata": {},
     "output_type": "display_data"
    }
   ],
   "source": [
    "sns.set(style=\"darkgrid\")\n",
    "ax = sns.boxplot(x=\"time_spend_company\", data=df);\n",
    "plt.savefig(\"time_spend_company.svg\", format='svg')"
   ]
  },
  {
   "cell_type": "markdown",
   "id": "2a221f04-b981-4041-b7a3-5aa8fbec4e7d",
   "metadata": {},
   "source": [
    "- Does salary level impact employee satisfaction?\n",
    "Do higher performance evaluation scores relate to higher job satisfaction levels? \n",
    "Is there a relationship between the number of years spent with the company and employee satisfaction?\n",
    "How does the number of projects and average monthly hours correlate with employee satisfaction levels?\n",
    "- Are there differences in satisfaction levels between employees who have experienced work accidents and those who haven’t?\n",
    "- Do employees who received promotions report higher satisfaction levels than those who didn’t?\n",
    "- Is there a difference in satisfaction levels across different departments?"
   ]
  },
  {
   "cell_type": "code",
   "execution_count": 27,
   "id": "e36f21bb-b856-4353-a401-4a36bebc33d6",
   "metadata": {},
   "outputs": [
    {
     "data": {
      "text/html": [
       "<div>\n",
       "<style scoped>\n",
       "    .dataframe tbody tr th:only-of-type {\n",
       "        vertical-align: middle;\n",
       "    }\n",
       "\n",
       "    .dataframe tbody tr th {\n",
       "        vertical-align: top;\n",
       "    }\n",
       "\n",
       "    .dataframe thead th {\n",
       "        text-align: right;\n",
       "    }\n",
       "</style>\n",
       "<table border=\"1\" class=\"dataframe\">\n",
       "  <thead>\n",
       "    <tr style=\"text-align: right;\">\n",
       "      <th></th>\n",
       "      <th>id</th>\n",
       "      <th>satisfaction_level</th>\n",
       "      <th>last_evaluation</th>\n",
       "      <th>number_project</th>\n",
       "      <th>average_monthly_hours</th>\n",
       "      <th>time_spend_company</th>\n",
       "      <th>work_accident</th>\n",
       "      <th>promotion_last_5years</th>\n",
       "      <th>dept</th>\n",
       "      <th>salary</th>\n",
       "    </tr>\n",
       "  </thead>\n",
       "  <tbody>\n",
       "    <tr>\n",
       "      <th>0</th>\n",
       "      <td>1.0</td>\n",
       "      <td>0.38</td>\n",
       "      <td>0.53</td>\n",
       "      <td>2.0</td>\n",
       "      <td>157.0</td>\n",
       "      <td>3.0</td>\n",
       "      <td>0.0</td>\n",
       "      <td>0.0</td>\n",
       "      <td>sales</td>\n",
       "      <td>low</td>\n",
       "    </tr>\n",
       "    <tr>\n",
       "      <th>1</th>\n",
       "      <td>2.0</td>\n",
       "      <td>0.80</td>\n",
       "      <td>0.86</td>\n",
       "      <td>5.0</td>\n",
       "      <td>262.0</td>\n",
       "      <td>6.0</td>\n",
       "      <td>0.0</td>\n",
       "      <td>0.0</td>\n",
       "      <td>sales</td>\n",
       "      <td>medium</td>\n",
       "    </tr>\n",
       "    <tr>\n",
       "      <th>2</th>\n",
       "      <td>3.0</td>\n",
       "      <td>0.11</td>\n",
       "      <td>0.88</td>\n",
       "      <td>7.0</td>\n",
       "      <td>272.0</td>\n",
       "      <td>4.0</td>\n",
       "      <td>0.0</td>\n",
       "      <td>0.0</td>\n",
       "      <td>sales</td>\n",
       "      <td>medium</td>\n",
       "    </tr>\n",
       "    <tr>\n",
       "      <th>3</th>\n",
       "      <td>4.0</td>\n",
       "      <td>0.72</td>\n",
       "      <td>0.87</td>\n",
       "      <td>5.0</td>\n",
       "      <td>223.0</td>\n",
       "      <td>5.0</td>\n",
       "      <td>0.0</td>\n",
       "      <td>0.0</td>\n",
       "      <td>sales</td>\n",
       "      <td>low</td>\n",
       "    </tr>\n",
       "    <tr>\n",
       "      <th>4</th>\n",
       "      <td>5.0</td>\n",
       "      <td>0.37</td>\n",
       "      <td>0.52</td>\n",
       "      <td>2.0</td>\n",
       "      <td>159.0</td>\n",
       "      <td>3.0</td>\n",
       "      <td>0.0</td>\n",
       "      <td>0.0</td>\n",
       "      <td>sales</td>\n",
       "      <td>low</td>\n",
       "    </tr>\n",
       "  </tbody>\n",
       "</table>\n",
       "</div>"
      ],
      "text/plain": [
       "    id  satisfaction_level  last_evaluation  number_project  \\\n",
       "0  1.0                0.38             0.53             2.0   \n",
       "1  2.0                0.80             0.86             5.0   \n",
       "2  3.0                0.11             0.88             7.0   \n",
       "3  4.0                0.72             0.87             5.0   \n",
       "4  5.0                0.37             0.52             2.0   \n",
       "\n",
       "   average_monthly_hours  time_spend_company  work_accident  \\\n",
       "0                  157.0                 3.0            0.0   \n",
       "1                  262.0                 6.0            0.0   \n",
       "2                  272.0                 4.0            0.0   \n",
       "3                  223.0                 5.0            0.0   \n",
       "4                  159.0                 3.0            0.0   \n",
       "\n",
       "   promotion_last_5years   dept  salary  \n",
       "0                    0.0  sales     low  \n",
       "1                    0.0  sales  medium  \n",
       "2                    0.0  sales  medium  \n",
       "3                    0.0  sales     low  \n",
       "4                    0.0  sales     low  "
      ]
     },
     "execution_count": 27,
     "metadata": {},
     "output_type": "execute_result"
    }
   ],
   "source": [
    "df.head()"
   ]
  },
  {
   "cell_type": "markdown",
   "id": "531fc431-b7ae-4f35-b130-079b773c5f50",
   "metadata": {},
   "source": [
    "__Normallik varsayımı__"
   ]
  },
  {
   "cell_type": "code",
   "execution_count": 28,
   "id": "1bd67f5a-bafe-4012-8960-83aa0478f459",
   "metadata": {},
   "outputs": [],
   "source": [
    "from scipy.stats import shapiro"
   ]
  },
  {
   "cell_type": "code",
   "execution_count": 29,
   "id": "816da1a8-4315-4b0b-9d9b-4b882eec89fe",
   "metadata": {},
   "outputs": [
    {
     "data": {
      "text/plain": [
       "0.0"
      ]
     },
     "execution_count": 42,
     "metadata": {},
     "output_type": "execute_result"
    }
   ],
   "source": [
    "shapiro(df.satisfaction_level)"
   ]
  },
  {
   "cell_type": "code",
   "execution_count": 37,
   "id": "41afbaf0-70ed-403e-b734-4c4afd29dd00",
   "metadata": {},
   "outputs": [],
   "source": [
    "from scipy.stats.stats import kendalltau"
   ]
  },
  {
   "cell_type": "code",
   "execution_count": 31,
   "id": "799b6870-3fed-41fb-9ec2-2ce3cfdbc6a4",
   "metadata": {},
   "outputs": [
    {
     "data": {
      "text/plain": [
       "id                       0.045841\n",
       "satisfaction_level       1.000000\n",
       "last_evaluation          0.105021\n",
       "number_project          -0.142970\n",
       "average_monthly_hours   -0.020048\n",
       "time_spend_company      -0.100866\n",
       "work_accident            0.058697\n",
       "promotion_last_5years    0.025605\n",
       "Name: satisfaction_level, dtype: float64"
      ]
     },
     "execution_count": 31,
     "metadata": {},
     "output_type": "execute_result"
    }
   ],
   "source": [
    "df.corr()[\"satisfaction_level\"]"
   ]
  },
  {
   "cell_type": "code",
   "execution_count": 38,
   "id": "27bc622f-2259-4f1e-9c6f-f17ef8d2e6db",
   "metadata": {},
   "outputs": [
    {
     "data": {
      "image/png": "[encoded data removed]",
      "text/plain": [
       "<Figure size 864x360 with 2 Axes>"
      ]
     },
     "metadata": {},
     "output_type": "display_data"
    }
   ],
   "source": [
    "ax = sns.heatmap(df.corr(method=\"kendall\"), annot=True)\n",
    "plt.savefig(\"corr_matrix.svg\", format)"
   ]
  },
  {
   "cell_type": "code",
   "execution_count": 32,
   "id": "297c2990-1c75-41c1-9c7b-160b1af4eae9",
   "metadata": {},
   "outputs": [
    {
     "name": "stdout",
     "output_type": "stream",
     "text": [
      "There is a significant difference in satisfaction levels across different departments (Reject the null hypothesis)\n"
     ]
    }
   ],
   "source": [
    "from scipy.stats import f_oneway\n",
    "\n",
    "# Assuming 'df' is your DataFrame\n",
    "# Importing necessary libraries, assuming 'satisfaction_level' and 'dept' columns exist in 'df'\n",
    "\n",
    "# Group 'satisfaction_level' by 'dept'\n",
    "dept_groups = [df[df['dept'] == dept]['satisfaction_level'] for dept in df['dept'].unique()]\n",
    "\n",
    "# Perform ANOVA test\n",
    "f_statistic, p_value = f_oneway(*dept_groups)\n",
    "\n",
    "# Check the results\n",
    "alpha = 0.05  # Set your significance level\n",
    "if p_value < alpha:\n",
    "    print(\"There is a significant difference in satisfaction levels across different departments (Reject the null hypothesis)\")\n",
    "else:\n",
    "    print(\"There is no significant difference in satisfaction levels across different departments (Fail to reject the null hypothesis)\")\n"
   ]
  },
  {
   "cell_type": "code",
   "execution_count": 58,
   "id": "047ac444-00ec-4de4-911e-61dc08b983a3",
   "metadata": {},
   "outputs": [
    {
     "name": "stdout",
     "output_type": "stream",
     "text": [
      "0.031893764767489896\n",
      "There is a significant difference in satisfaction levels across different departments (Reject the null hypothesis)\n"
     ]
    }
   ],
   "source": [
    "from scipy.stats import kruskal\n",
    "\n",
    "# Assuming 'df' is your DataFrame\n",
    "# Group 'satisfaction_level' by 'dept'\n",
    "dept_groups = [df[df['dept'] == dept]['satisfaction_level'] for dept in df['dept'].unique()]\n",
    "\n",
    "# Perform Kruskal-Wallis H test\n",
    "h_statistic, p_value = kruskal(*dept_groups)\n",
    "\n",
    "# Check the results\n",
    "alpha = 0.05  # Set your significance level\n",
    "print(p_value)\n",
    "if p_value < alpha:\n",
    "    print(\"There is a significant difference in satisfaction levels across different departments (Reject the null hypothesis)\")\n",
    "else:\n",
    "    print(\"There is no significant difference in satisfaction levels across different departments (Fail to reject the null hypothesis)\")\n"
   ]
  },
  {
   "cell_type": "code",
   "execution_count": 61,
   "id": "dd5b00cb-3733-4d41-a797-e0f2374a8724",
   "metadata": {},
   "outputs": [
    {
     "name": "stdout",
     "output_type": "stream",
     "text": [
      "0.0010728690012788804\n",
      "There is a significant difference in satisfaction levels between sales and accounting (Reject the null hypothesis)\n",
      "0.013364046762574201\n",
      "There is a significant difference in satisfaction levels between accounting and technical (Reject the null hypothesis)\n",
      "0.0005235227216124778\n",
      "There is a significant difference in satisfaction levels between accounting and support (Reject the null hypothesis)\n",
      "0.002772376893987989\n",
      "There is a significant difference in satisfaction levels between accounting and management (Reject the null hypothesis)\n",
      "0.0019416188543899093\n",
      "There is a significant difference in satisfaction levels between accounting and IT (Reject the null hypothesis)\n",
      "0.00215157997439044\n",
      "There is a significant difference in satisfaction levels between accounting and product_mng (Reject the null hypothesis)\n",
      "0.0033301507412151652\n",
      "There is a significant difference in satisfaction levels between accounting and marketing (Reject the null hypothesis)\n",
      "0.0030535277672815455\n",
      "There is a significant difference in satisfaction levels between accounting and RandD (Reject the null hypothesis)\n"
     ]
    }
   ],
   "source": [
    "from itertools import combinations\n",
    "from scipy.stats import ttest_ind\n",
    "\n",
    "# Get unique department values\n",
    "departments = df['dept'].unique()\n",
    "\n",
    "# Perform pairwise t-tests for satisfaction levels between departments\n",
    "for dept1, dept2 in combinations(departments, 2):\n",
    "    data1 = df[df['dept'] == dept1]['satisfaction_level']\n",
    "    data2 = df[df['dept'] == dept2]['satisfaction_level']\n",
    "    \n",
    "    t_statistic, p_value = ttest_ind(data1, data2)\n",
    "    \n",
    "    alpha = 0.05  # Set your significance level\n",
    "    \n",
    "    if p_value < alpha:\n",
    "        print(p_value)\n",
    "        print(f\"There is a significant difference in satisfaction levels between {dept1} and {dept2} (Reject the null hypothesis)\")"
   ]
  },
  {
   "cell_type": "code",
   "execution_count": 34,
   "id": "ab4476c4-87f4-403a-88b9-28d49bc6774e",
   "metadata": {},
   "outputs": [
    {
     "data": {
      "text/plain": [
       "dept\n",
       "IT             0.618142\n",
       "RandD          0.619822\n",
       "accounting     0.582151\n",
       "hr             0.598809\n",
       "management     0.621349\n",
       "marketing      0.618601\n",
       "product_mng    0.619634\n",
       "sales          0.614447\n",
       "support        0.618300\n",
       "technical      0.607897\n",
       "Name: satisfaction_level, dtype: float64"
      ]
     },
     "execution_count": 34,
     "metadata": {},
     "output_type": "execute_result"
    }
   ],
   "source": [
    "df.groupby(\"dept\")[\"satisfaction_level\"].mean()"
   ]
  },
  {
   "cell_type": "code",
   "execution_count": 47,
   "id": "e51aa53a-9462-4b23-b48e-a6c12f6c2b9d",
   "metadata": {},
   "outputs": [
    {
     "name": "stdout",
     "output_type": "stream",
     "text": [
      "Mann-Whitney U statistic: 12627566.5\n",
      "p-value: 5.242907145393913e-12\n"
     ]
    }
   ],
   "source": [
    "import pandas as pd\n",
    "from scipy.stats import mannwhitneyu\n",
    "\n",
    "# Assuming 'data' is your DataFrame\n",
    "# Splitting the data based on 'work_accident' (0: no accident, 1: accident)\n",
    "no_accident = df[df['work_accident'] == 0]['satisfaction_level']\n",
    "accident = df[df['work_accident'] == 1]['satisfaction_level']\n",
    "\n",
    "# Performing the Mann-Whitney U test\n",
    "statistic, p_value = mannwhitneyu(no_accident, accident)\n",
    "print(\"Mann-Whitney U statistic:\", statistic)\n",
    "print(\"p-value:\", p_value)"
   ]
  },
  {
   "cell_type": "code",
   "execution_count": 53,
   "id": "9be19eff-e983-4c37-a88b-51c478f10a15",
   "metadata": {},
   "outputs": [
    {
     "data": {
      "text/plain": [
       "work_accident\n",
       "0.0    0.606833\n",
       "1.0    0.648326\n",
       "Name: satisfaction_level, dtype: float64"
      ]
     },
     "execution_count": 53,
     "metadata": {},
     "output_type": "execute_result"
    }
   ],
   "source": [
    "df.groupby(\"work_accident\")[\"satisfaction_level\"].mean()"
   ]
  },
  {
   "cell_type": "code",
   "execution_count": 55,
   "id": "84a80a9f-3f01-41a3-b494-78753f0a04f5",
   "metadata": {},
   "outputs": [
    {
     "name": "stdout",
     "output_type": "stream",
     "text": [
      "Mann-Whitney U statistic: 2132481.5\n",
      "p-value: 0.006301378312817667\n"
     ]
    },
    {
     "data": {
      "text/plain": [
       "promotion_last_5years\n",
       "0.0    0.611895\n",
       "1.0    0.656019\n",
       "Name: satisfaction_level, dtype: float64"
      ]
     },
     "execution_count": 55,
     "metadata": {},
     "output_type": "execute_result"
    }
   ],
   "source": [
    "# Assuming 'data' is your DataFrame\n",
    "# Splitting the data based on 'work_accident' (0: no accident, 1: accident)\n",
    "no_accident = df[df['promotion_last_5years'] == 0]['satisfaction_level']\n",
    "accident = df[df['promotion_last_5years'] == 1]['satisfaction_level']\n",
    "\n",
    "# Performing the Mann-Whitney U test\n",
    "statistic, p_value = mannwhitneyu(no_accident, accident)\n",
    "print(\"Mann-Whitney U statistic:\", statistic)\n",
    "print(\"p-value:\", p_value)\n",
    "df.groupby(\"promotion_last_5years\")[\"satisfaction_level\"].mean()"
   ]
  },
  {
   "cell_type": "code",
   "execution_count": 52,
   "id": "f175b3a9-95c4-4805-901b-ac67f72aed4f",
   "metadata": {},
   "outputs": [
    {
     "name": "stdout",
     "output_type": "stream",
     "text": [
      "Kruskal-Wallis H Statistic: 30.90290304683783\n",
      "p-value: 1.947690141323984e-07\n"
     ]
    }
   ],
   "source": [
    "import pandas as pd\n",
    "from scipy.stats import kruskal\n",
    "\n",
    "# Assuming 'df' is your DataFrame\n",
    "salary_levels = df['salary'].unique()\n",
    "\n",
    "# Create lists to store satisfaction levels for each salary level\n",
    "salary_groups = [df[df['salary'] == salary]['satisfaction_level'] for salary in salary_levels]\n",
    "\n",
    "# Perform Kruskal-Wallis H test\n",
    "h_statistic, p_value = kruskal(*salary_groups)\n",
    "print(\"Kruskal-Wallis H Statistic:\", h_statistic)\n",
    "print(\"p-value:\", p_value)"
   ]
  },
  {
   "cell_type": "code",
   "execution_count": 51,
   "id": "74b86ec9-4838-4b4a-95a6-19ce29afcbc2",
   "metadata": {},
   "outputs": [
    {
     "name": "stdout",
     "output_type": "stream",
     "text": [
      "Mann-Whitney U Test between low and medium:\n",
      "U statistic: 22503454.0\n",
      "p-value: 3.707572808674604e-06\n",
      "\n",
      "Mann-Whitney U Test between low and high:\n",
      "U statistic: 4187327.0\n",
      "p-value: 2.6234731404409223e-05\n",
      "\n",
      "Mann-Whitney U Test between medium and high:\n",
      "U statistic: 3878301.0\n",
      "p-value: 0.12869346320149844\n",
      "\n"
     ]
    }
   ],
   "source": [
    "import pandas as pd\n",
    "from itertools import combinations\n",
    "from scipy.stats import mannwhitneyu\n",
    "\n",
    "# Assuming 'df' is your DataFrame\n",
    "salary_levels = df['salary'].unique()\n",
    "\n",
    "# Perform pairwise Mann-Whitney U tests\n",
    "for salary1, salary2 in combinations(salary_levels, 2):\n",
    "    group1 = df[df['salary'] == salary1]['satisfaction_level']\n",
    "    group2 = df[df['salary'] == salary2]['satisfaction_level']\n",
    "    \n",
    "    statistic, p_value = mannwhitneyu(group1, group2)\n",
    "    print(f\"Mann-Whitney U Test between {salary1} and {salary2}:\")\n",
    "    print(f\"U statistic: {statistic}\")\n",
    "    print(f\"p-value: {p_value}\\n\")\n"
   ]
  },
  {
   "cell_type": "code",
   "execution_count": 56,
   "id": "2f46f136-7a0e-4557-9cb3-6d7b458a501a",
   "metadata": {},
   "outputs": [
    {
     "data": {
      "text/plain": [
       "salary\n",
       "high      0.637470\n",
       "low       0.600753\n",
       "medium    0.621817\n",
       "Name: satisfaction_level, dtype: float64"
      ]
     },
     "execution_count": 56,
     "metadata": {},
     "output_type": "execute_result"
    }
   ],
   "source": [
    "df.groupby(\"salary\")[\"satisfaction_level\"].mean()"
   ]
  },
  {
   "cell_type": "markdown",
   "id": "0a3c6a49-adc0-4a65-9003-173f78f58c21",
   "metadata": {},
   "source": [
    "##  Linear Reg"
   ]
  },
  {
   "cell_type": "code",
   "execution_count": 71,
   "id": "09fc3b41-dc2c-452a-a110-21baac4ffbf1",
   "metadata": {},
   "outputs": [],
   "source": [
    "from sklearn.linear_model import LinearRegression\n",
    "from sklearn.preprocessing import LabelEncoder\n",
    "from sklearn.metrics import mean_squared_error, r2_score\n",
    "import warnings\n",
    "warnings.filterwarnings(\"ignore\")\n",
    "\n",
    "\n",
    "columns_to_encode = ['dept', 'salary']\n",
    "\n",
    "le = LabelEncoder()\n",
    "\n",
    "for column in columns_to_encode:\n",
    "    df[column] = le.fit_transform(df[column])"
   ]
  },
  {
   "cell_type": "code",
   "execution_count": 72,
   "id": "32e29630-c03d-41f7-b147-ca159f3802a9",
   "metadata": {},
   "outputs": [],
   "source": [
    "from sklearn.model_selection import train_test_split\n",
    "X = df.drop('satisfaction_level', axis=1)  \n",
    "y = df['satisfaction_level']  \n",
    "\n",
    "X_train, X_test, y_train, y_test = train_test_split(X, y, test_size=0.2, random_state=13)"
   ]
  },
  {
   "cell_type": "code",
   "execution_count": 73,
   "id": "e75ee6a9-8b36-4b08-94d6-eb9b1dab9732",
   "metadata": {},
   "outputs": [],
   "source": [
    "model = LinearRegression()"
   ]
  },
  {
   "cell_type": "code",
   "execution_count": 74,
   "id": "815b9a93-6137-4347-b36d-5760cbbe470c",
   "metadata": {},
   "outputs": [
    {
     "data": {
      "text/html": [
       "<style>#sk-container-id-2 {color: black;background-color: white;}#sk-container-id-2 pre{padding: 0;}#sk-container-id-2 div.sk-toggleable {background-color: white;}#sk-container-id-2 label.sk-toggleable__label {cursor: pointer;display: block;width: 100%;margin-bottom: 0;padding: 0.3em;box-sizing: border-box;text-align: center;}#sk-container-id-2 label.sk-toggleable__label-arrow:before {content: \"▸\";float: left;margin-right: 0.25em;color: #696969;}#sk-container-id-2 label.sk-toggleable__label-arrow:hover:before {color: black;}#sk-container-id-2 div.sk-estimator:hover label.sk-toggleable__label-arrow:before {color: black;}#sk-container-id-2 div.sk-toggleable__content {max-height: 0;max-width: 0;overflow: hidden;text-align: left;background-color: #f0f8ff;}#sk-container-id-2 div.sk-toggleable__content pre {margin: 0.2em;color: black;border-radius: 0.25em;background-color: #f0f8ff;}#sk-container-id-2 input.sk-toggleable__control:checked~div.sk-toggleable__content {max-height: 200px;max-width: 100%;overflow: auto;}#sk-container-id-2 input.sk-toggleable__control:checked~label.sk-toggleable__label-arrow:before {content: \"▾\";}#sk-container-id-2 div.sk-estimator input.sk-toggleable__control:checked~label.sk-toggleable__label {background-color: #d4ebff;}#sk-container-id-2 div.sk-label input.sk-toggleable__control:checked~label.sk-toggleable__label {background-color: #d4ebff;}#sk-container-id-2 input.sk-hidden--visually {border: 0;clip: rect(1px 1px 1px 1px);clip: rect(1px, 1px, 1px, 1px);height: 1px;margin: -1px;overflow: hidden;padding: 0;position: absolute;width: 1px;}#sk-container-id-2 div.sk-estimator {font-family: monospace;background-color: #f0f8ff;border: 1px dotted black;border-radius: 0.25em;box-sizing: border-box;margin-bottom: 0.5em;}#sk-container-id-2 div.sk-estimator:hover {background-color: #d4ebff;}#sk-container-id-2 div.sk-parallel-item::after {content: \"\";width: 100%;border-bottom: 1px solid gray;flex-grow: 1;}#sk-container-id-2 div.sk-label:hover label.sk-toggleable__label {background-color: #d4ebff;}#sk-container-id-2 div.sk-serial::before {content: \"\";position: absolute;border-left: 1px solid gray;box-sizing: border-box;top: 0;bottom: 0;left: 50%;z-index: 0;}#sk-container-id-2 div.sk-serial {display: flex;flex-direction: column;align-items: center;background-color: white;padding-right: 0.2em;padding-left: 0.2em;position: relative;}#sk-container-id-2 div.sk-item {position: relative;z-index: 1;}#sk-container-id-2 div.sk-parallel {display: flex;align-items: stretch;justify-content: center;background-color: white;position: relative;}#sk-container-id-2 div.sk-item::before, #sk-container-id-2 div.sk-parallel-item::before {content: \"\";position: absolute;border-left: 1px solid gray;box-sizing: border-box;top: 0;bottom: 0;left: 50%;z-index: -1;}#sk-container-id-2 div.sk-parallel-item {display: flex;flex-direction: column;z-index: 1;position: relative;background-color: white;}#sk-container-id-2 div.sk-parallel-item:first-child::after {align-self: flex-end;width: 50%;}#sk-container-id-2 div.sk-parallel-item:last-child::after {align-self: flex-start;width: 50%;}#sk-container-id-2 div.sk-parallel-item:only-child::after {width: 0;}#sk-container-id-2 div.sk-dashed-wrapped {border: 1px dashed gray;margin: 0 0.4em 0.5em 0.4em;box-sizing: border-box;padding-bottom: 0.4em;background-color: white;}#sk-container-id-2 div.sk-label label {font-family: monospace;font-weight: bold;display: inline-block;line-height: 1.2em;}#sk-container-id-2 div.sk-label-container {text-align: center;}#sk-container-id-2 div.sk-container {/* jupyter's `normalize.less` sets `[hidden] { display: none; }` but bootstrap.min.css set `[hidden] { display: none !important; }` so we also need the `!important` here to be able to override the default hidden behavior on the sphinx rendered scikit-learn.org. See: https://github.com/scikit-learn/scikit-learn/issues/21755 */display: inline-block !important;position: relative;}#sk-container-id-2 div.sk-text-repr-fallback {display: none;}</style><div id=\"sk-container-id-2\" class=\"sk-top-container\"><div class=\"sk-text-repr-fallback\"><pre>LinearRegression()</pre><b>In a Jupyter environment, please rerun this cell to show the HTML representation or trust the notebook. <br />On GitHub, the HTML representation is unable to render, please try loading this page with nbviewer.org.</b></div><div class=\"sk-container\" hidden><div class=\"sk-item\"><div class=\"sk-estimator sk-toggleable\"><input class=\"sk-toggleable__control sk-hidden--visually\" id=\"sk-estimator-id-2\" type=\"checkbox\" checked><label for=\"sk-estimator-id-2\" class=\"sk-toggleable__label sk-toggleable__label-arrow\">LinearRegression</label><div class=\"sk-toggleable__content\"><pre>LinearRegression()</pre></div></div></div></div></div>"
      ],
      "text/plain": [
       "LinearRegression()"
      ]
     },
     "execution_count": 74,
     "metadata": {},
     "output_type": "execute_result"
    }
   ],
   "source": [
    "model.fit(X_train, y_train)"
   ]
  },
  {
   "cell_type": "code",
   "execution_count": 75,
   "id": "dea6dc29-4feb-4f5a-8fd4-a8a7d890a73f",
   "metadata": {},
   "outputs": [],
   "source": [
    "y_pred = model.predict(X_test)"
   ]
  },
  {
   "cell_type": "code",
   "execution_count": 76,
   "id": "04b4d511-87d5-44da-8a8e-8452846f550d",
   "metadata": {},
   "outputs": [],
   "source": [
    "mse = mean_squared_error(y_test, y_pred)\n",
    "r2 = r2_score(y_test, y_pred)"
   ]
  },
  {
   "cell_type": "code",
   "execution_count": 78,
   "id": "bdcd1ecf-1470-48d8-ac63-aefffe17d937",
   "metadata": {},
   "outputs": [
    {
     "name": "stdout",
     "output_type": "stream",
     "text": [
      "Linear Regression\n",
      "Mean Squared Error: 0.05773700044478266\n",
      "R^2 Score: 0.06276783301384192\n"
     ]
    }
   ],
   "source": [
    "print(\"Linear Regression\")\n",
    "print(f\"Mean Squared Error: {mse}\")\n",
    "print(f\"R^2 Score: {r2}\")"
   ]
  },
  {
   "cell_type": "code",
   "execution_count": null,
   "id": "01e33fff-6065-4215-9b44-c0b9c23c32fc",
   "metadata": {},
   "outputs": [],
   "source": []
  }
 ],
 "metadata": {
  "kernelspec": {
   "display_name": "Python 3 (ipykernel)",
   "language": "python",
   "name": "python3"
  },
  "language_info": {
   "codemirror_mode": {
    "name": "ipython",
    "version": 3
   },
   "file_extension": ".py",
   "mimetype": "text/x-python",
   "name": "python",
   "nbconvert_exporter": "python",
   "pygments_lexer": "ipython3",
   "version": "3.9.12"
  }
 },
 "nbformat": 4,
 "nbformat_minor": 5
}
